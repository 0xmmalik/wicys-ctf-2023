{
 "cells": [
  {
   "cell_type": "code",
   "execution_count": 1,
   "id": "2328c3c2",
   "metadata": {
    "scrolled": true
   },
   "outputs": [
    {
     "name": "stdout",
     "output_type": "stream",
     "text": [
      "4952019383419\n",
      "Searching...\n",
      "FOUND: Elliptic Curve defined by y^2 = x^3 + 16332764*x + 8847792 over Finite Field of size 4952019383419\n"
     ]
    }
   ],
   "source": [
    "p = 4952019383323.next_prime()\n",
    "print(p)\n",
    "#   99117082086121 = cuRVy\n",
    "a = 32500\n",
    "b = 8847792\n",
    "E = EllipticCurve(GF(p), [a, b])\n",
    "G = GF(p)\n",
    "print(\"Searching...\")\n",
    "while E.order() != p:\n",
    "    a += 1\n",
    "    E = EllipticCurve(G, [a, b])\n",
    "    \n",
    "print(\"FOUND:\", E)"
   ]
  },
  {
   "cell_type": "code",
   "execution_count": null,
   "id": "df09fcd8",
   "metadata": {},
   "outputs": [],
   "source": []
  }
 ],
 "metadata": {
  "kernelspec": {
   "display_name": "SageMath 10.1",
   "language": "sage",
   "name": "sagemath"
  },
  "language_info": {
   "codemirror_mode": {
    "name": "ipython",
    "version": 3
   },
   "file_extension": ".py",
   "mimetype": "text/x-python",
   "name": "python",
   "nbconvert_exporter": "python",
   "pygments_lexer": "ipython3",
   "version": "3.11.1"
  }
 },
 "nbformat": 4,
 "nbformat_minor": 5
}
